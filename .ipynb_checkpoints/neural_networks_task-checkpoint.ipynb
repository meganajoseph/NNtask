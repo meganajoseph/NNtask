{
 "cells": [
  {
   "cell_type": "markdown",
   "id": "0c285873-c664-4ced-840b-a4a011f97531",
   "metadata": {},
   "source": [
    "# Build, Train, and Evaluate Neural Networks for a Binary Classification Task"
   ]
  },
  {
   "cell_type": "code",
   "execution_count": 11,
   "id": "025620a1-6c6c-47d6-b90d-76ca44cb56df",
   "metadata": {},
   "outputs": [],
   "source": [
    "import numpy as np\n",
    "import pandas as pd\n",
    "import matplotlib.pyplot as plt"
   ]
  },
  {
   "cell_type": "markdown",
   "id": "11b8df76-d2c4-4eb9-a537-385b7eb8e397",
   "metadata": {},
   "source": [
    "## Phase 1: Data Analysis & Preparation"
   ]
  },
  {
   "cell_type": "markdown",
   "id": "7e6d84b2-0ca2-4732-9a9c-213b9cc108f8",
   "metadata": {},
   "source": [
    "Data source: [Banana Quality Dataset](https://www.kaggle.com/datasets/l3llff/banana?resource=download&SSORegistrationToken=CfDJ8HYJ4SW6YXhJj8CRciRldeTyEmJk1yb2Kla806Haw8nD2fvZGj2zsVP-bilLbh1JKYBADpcCDeue5tZR0MLr5QYwx0kF-QOL8RRhaXrHfUJV_CLK9zbP3XnkF3paAMBWjvnVq__nZnX2b6ang27rYRy2wjxbedOWEEVoklXDCy47_AVnjDIbvo23Y4QJVSVpQ1KQQAJx9xHt3TcOkwvMD_0hOeaVf943ETyUrY354CM1TwWyQsZqOyV_gmdsc6Jq4bz8XQhWzoCDIYy5ZJo55fK3oOQTKS8Rw3QMAp1Kvgt3y7g3dkBqR8ZMldhvxVeq4aKONK8LCh_wV2hcMocwLoeNhYnJKA&DisplayName=Megan%20Joseph)"
   ]
  },
  {
   "cell_type": "code",
   "execution_count": 38,
   "id": "7e90acb5-0849-49c2-aa20-6da76a5c810f",
   "metadata": {},
   "outputs": [],
   "source": [
    "# load dataset\n",
    "X = pd.read_csv(\"archive\\\\banana_quality.csv\").iloc[:, :-2]\n",
    "y = pd.read_csv(\"archive\\\\banana_quality.csv\").iloc[:, [-1]]"
   ]
  },
  {
   "cell_type": "code",
   "execution_count": 39,
   "id": "a66c81f8-63d5-415f-b07a-42d0d8c6fae8",
   "metadata": {},
   "outputs": [
    {
     "data": {
      "text/html": [
       "<div>\n",
       "<style scoped>\n",
       "    .dataframe tbody tr th:only-of-type {\n",
       "        vertical-align: middle;\n",
       "    }\n",
       "\n",
       "    .dataframe tbody tr th {\n",
       "        vertical-align: top;\n",
       "    }\n",
       "\n",
       "    .dataframe thead th {\n",
       "        text-align: right;\n",
       "    }\n",
       "</style>\n",
       "<table border=\"1\" class=\"dataframe\">\n",
       "  <thead>\n",
       "    <tr style=\"text-align: right;\">\n",
       "      <th></th>\n",
       "      <th>Size</th>\n",
       "      <th>Weight</th>\n",
       "      <th>Sweetness</th>\n",
       "      <th>Softness</th>\n",
       "      <th>HarvestTime</th>\n",
       "      <th>Ripeness</th>\n",
       "    </tr>\n",
       "  </thead>\n",
       "  <tbody>\n",
       "    <tr>\n",
       "      <th>0</th>\n",
       "      <td>-1.924968</td>\n",
       "      <td>0.468078</td>\n",
       "      <td>3.077832</td>\n",
       "      <td>-1.472177</td>\n",
       "      <td>0.294799</td>\n",
       "      <td>2.435570</td>\n",
       "    </tr>\n",
       "    <tr>\n",
       "      <th>1</th>\n",
       "      <td>-2.409751</td>\n",
       "      <td>0.486870</td>\n",
       "      <td>0.346921</td>\n",
       "      <td>-2.495099</td>\n",
       "      <td>-0.892213</td>\n",
       "      <td>2.067549</td>\n",
       "    </tr>\n",
       "    <tr>\n",
       "      <th>2</th>\n",
       "      <td>-0.357607</td>\n",
       "      <td>1.483176</td>\n",
       "      <td>1.568452</td>\n",
       "      <td>-2.645145</td>\n",
       "      <td>-0.647267</td>\n",
       "      <td>3.090643</td>\n",
       "    </tr>\n",
       "    <tr>\n",
       "      <th>3</th>\n",
       "      <td>-0.868524</td>\n",
       "      <td>1.566201</td>\n",
       "      <td>1.889605</td>\n",
       "      <td>-1.273761</td>\n",
       "      <td>-1.006278</td>\n",
       "      <td>1.873001</td>\n",
       "    </tr>\n",
       "    <tr>\n",
       "      <th>4</th>\n",
       "      <td>0.651825</td>\n",
       "      <td>1.319199</td>\n",
       "      <td>-0.022459</td>\n",
       "      <td>-1.209709</td>\n",
       "      <td>-1.430692</td>\n",
       "      <td>1.078345</td>\n",
       "    </tr>\n",
       "  </tbody>\n",
       "</table>\n",
       "</div>"
      ],
      "text/plain": [
       "       Size    Weight  Sweetness  Softness  HarvestTime  Ripeness\n",
       "0 -1.924968  0.468078   3.077832 -1.472177     0.294799  2.435570\n",
       "1 -2.409751  0.486870   0.346921 -2.495099    -0.892213  2.067549\n",
       "2 -0.357607  1.483176   1.568452 -2.645145    -0.647267  3.090643\n",
       "3 -0.868524  1.566201   1.889605 -1.273761    -1.006278  1.873001\n",
       "4  0.651825  1.319199  -0.022459 -1.209709    -1.430692  1.078345"
      ]
     },
     "execution_count": 39,
     "metadata": {},
     "output_type": "execute_result"
    }
   ],
   "source": [
    "X.head()"
   ]
  },
  {
   "cell_type": "code",
   "execution_count": 45,
   "id": "3de8e151-1b75-492c-a113-5eebf9ea9431",
   "metadata": {},
   "outputs": [
    {
     "data": {
      "text/html": [
       "<div>\n",
       "<style scoped>\n",
       "    .dataframe tbody tr th:only-of-type {\n",
       "        vertical-align: middle;\n",
       "    }\n",
       "\n",
       "    .dataframe tbody tr th {\n",
       "        vertical-align: top;\n",
       "    }\n",
       "\n",
       "    .dataframe thead th {\n",
       "        text-align: right;\n",
       "    }\n",
       "</style>\n",
       "<table border=\"1\" class=\"dataframe\">\n",
       "  <thead>\n",
       "    <tr style=\"text-align: right;\">\n",
       "      <th></th>\n",
       "      <th>Quality</th>\n",
       "    </tr>\n",
       "  </thead>\n",
       "  <tbody>\n",
       "    <tr>\n",
       "      <th>0</th>\n",
       "      <td>1</td>\n",
       "    </tr>\n",
       "    <tr>\n",
       "      <th>1</th>\n",
       "      <td>1</td>\n",
       "    </tr>\n",
       "    <tr>\n",
       "      <th>2</th>\n",
       "      <td>1</td>\n",
       "    </tr>\n",
       "    <tr>\n",
       "      <th>3</th>\n",
       "      <td>1</td>\n",
       "    </tr>\n",
       "    <tr>\n",
       "      <th>4</th>\n",
       "      <td>1</td>\n",
       "    </tr>\n",
       "  </tbody>\n",
       "</table>\n",
       "</div>"
      ],
      "text/plain": [
       "   Quality\n",
       "0        1\n",
       "1        1\n",
       "2        1\n",
       "3        1\n",
       "4        1"
      ]
     },
     "execution_count": 45,
     "metadata": {},
     "output_type": "execute_result"
    }
   ],
   "source": [
    "y['Quality'] = y['Quality'].map(dict(Good=1, Bad=0))\n",
    "y.head()"
   ]
  },
  {
   "cell_type": "code",
   "execution_count": 46,
   "id": "9172775a-cbd0-42a1-b7ce-e395775f0029",
   "metadata": {},
   "outputs": [
    {
     "data": {
      "text/html": [
       "<div>\n",
       "<style scoped>\n",
       "    .dataframe tbody tr th:only-of-type {\n",
       "        vertical-align: middle;\n",
       "    }\n",
       "\n",
       "    .dataframe tbody tr th {\n",
       "        vertical-align: top;\n",
       "    }\n",
       "\n",
       "    .dataframe thead th {\n",
       "        text-align: right;\n",
       "    }\n",
       "</style>\n",
       "<table border=\"1\" class=\"dataframe\">\n",
       "  <thead>\n",
       "    <tr style=\"text-align: right;\">\n",
       "      <th></th>\n",
       "      <th>Size</th>\n",
       "      <th>Weight</th>\n",
       "      <th>Sweetness</th>\n",
       "      <th>Softness</th>\n",
       "      <th>HarvestTime</th>\n",
       "      <th>Ripeness</th>\n",
       "    </tr>\n",
       "  </thead>\n",
       "  <tbody>\n",
       "    <tr>\n",
       "      <th>0</th>\n",
       "      <td>-0.551102</td>\n",
       "      <td>0.609691</td>\n",
       "      <td>1.974927</td>\n",
       "      <td>-0.705852</td>\n",
       "      <td>0.523918</td>\n",
       "      <td>0.782519</td>\n",
       "    </tr>\n",
       "    <tr>\n",
       "      <th>1</th>\n",
       "      <td>-0.778058</td>\n",
       "      <td>0.619013</td>\n",
       "      <td>0.573349</td>\n",
       "      <td>-1.201162</td>\n",
       "      <td>-0.070580</td>\n",
       "      <td>0.608455</td>\n",
       "    </tr>\n",
       "    <tr>\n",
       "      <th>2</th>\n",
       "      <td>0.182674</td>\n",
       "      <td>1.113229</td>\n",
       "      <td>1.200272</td>\n",
       "      <td>-1.273816</td>\n",
       "      <td>0.052097</td>\n",
       "      <td>1.092350</td>\n",
       "    </tr>\n",
       "    <tr>\n",
       "      <th>3</th>\n",
       "      <td>-0.056517</td>\n",
       "      <td>1.154413</td>\n",
       "      <td>1.365097</td>\n",
       "      <td>-0.609777</td>\n",
       "      <td>-0.127708</td>\n",
       "      <td>0.516440</td>\n",
       "    </tr>\n",
       "    <tr>\n",
       "      <th>4</th>\n",
       "      <td>0.655249</td>\n",
       "      <td>1.031888</td>\n",
       "      <td>0.383773</td>\n",
       "      <td>-0.578762</td>\n",
       "      <td>-0.340270</td>\n",
       "      <td>0.140590</td>\n",
       "    </tr>\n",
       "  </tbody>\n",
       "</table>\n",
       "</div>"
      ],
      "text/plain": [
       "       Size    Weight  Sweetness  Softness  HarvestTime  Ripeness\n",
       "0 -0.551102  0.609691   1.974927 -0.705852     0.523918  0.782519\n",
       "1 -0.778058  0.619013   0.573349 -1.201162    -0.070580  0.608455\n",
       "2  0.182674  1.113229   1.200272 -1.273816     0.052097  1.092350\n",
       "3 -0.056517  1.154413   1.365097 -0.609777    -0.127708  0.516440\n",
       "4  0.655249  1.031888   0.383773 -0.578762    -0.340270  0.140590"
      ]
     },
     "execution_count": 46,
     "metadata": {},
     "output_type": "execute_result"
    }
   ],
   "source": [
    "# z-score normalize \n",
    "X_norm = (X-X.mean())/X.std()\n",
    "X_norm.head()"
   ]
  },
  {
   "cell_type": "code",
   "execution_count": 57,
   "id": "356e5ea4-93a0-43a0-bcf3-37446efdd163",
   "metadata": {},
   "outputs": [
    {
     "data": {
      "image/png": "[encoded data removed]",
      "text/plain": [
       "<Figure size 1000x600 with 6 Axes>"
      ]
     },
     "metadata": {},
     "output_type": "display_data"
    }
   ],
   "source": [
    "# visualizations\n",
    "fig, axs = plt.subplots(2, 3, figsize=(10, 6))\n",
    "a = axs.ravel()\n",
    "for idx,ax in enumerate(a):\n",
    "    col = X_norm.columns[idx]\n",
    "    ax.hist(X_norm[col])\n",
    "    ax.set_title(f'Distribution of {col}')\n",
    "    ax.set_xlabel(f'{col}')\n",
    "    ax.set_ylabel('Frequency')\n",
    "plt.tight_layout()\n",
    "plt.show()"
   ]
  },
  {
   "cell_type": "code",
   "execution_count": 49,
   "id": "4dd6c8cd-7bb3-42c2-b2f4-4e76eb2f69dd",
   "metadata": {},
   "outputs": [
    {
     "name": "stdout",
     "output_type": "stream",
     "text": [
      "The mean of Size is 0.0.\n",
      "The median of Size is -0.07.\n",
      "The mininimum value of Size is -3.39.\n",
      "The maximum value of Size is 4.08.\n",
      "=====================================================\n",
      "The mean of Weight is 0.0.\n",
      "The median of Weight is -0.05.\n",
      "The mininimum value of Weight is -3.73.\n",
      "The maximum value of Weight is 3.19.\n",
      "=====================================================\n",
      "The mean of Sweetness is -0.0.\n",
      "The median of Sweetness is -0.13.\n",
      "The mininimum value of Sweetness is -2.91.\n",
      "The maximum value of Sweetness is 4.26.\n",
      "=====================================================\n",
      "The mean of Softness is 0.0.\n",
      "The median of Softness is 0.11.\n",
      "The mininimum value of Softness is -3.36.\n",
      "The maximum value of Softness is 4.0.\n",
      "=====================================================\n",
      "The mean of HarvestTime is 0.0.\n",
      "The median of HarvestTime is -0.09.\n",
      "The mininimum value of HarvestTime is -3.42.\n",
      "The maximum value of HarvestTime is 3.53.\n",
      "=====================================================\n",
      "The mean of Ripeness is 0.0.\n",
      "The median of Ripeness is 0.09.\n",
      "The mininimum value of Ripeness is -3.88.\n",
      "The maximum value of Ripeness is 3.06.\n",
      "=====================================================\n"
     ]
    }
   ],
   "source": [
    "# range of values\n",
    "for col in X_norm.columns:\n",
    "    print(f'The mean of {col} is {round(X_norm[col].mean(), 2)}.')\n",
    "    print(f'The median of {col} is {round(X_norm[col].median(), 2)}.')\n",
    "    print(f'The mininimum value of {col} is {round(X_norm[col].min(), 2)}.')\n",
    "    print(f'The maximum value of {col} is {round(X_norm[col].max(), 2)}.')\n",
    "    print('=====================================================')"
   ]
  },
  {
   "cell_type": "code",
   "execution_count": 56,
   "id": "1ba55942-6536-400e-80e3-299d8b4bb5d2",
   "metadata": {},
   "outputs": [
    {
     "name": "stdout",
     "output_type": "stream",
     "text": [
      "The percentage of bad quality bananas is 49.93%\n",
      "The percentage of good quality bananas is 50.07%\n"
     ]
    }
   ],
   "source": [
    "# checking distribution of output\n",
    "\n",
    "perc_zero = round((len(y[y['Quality']==0]) / len(y))*100, 2)\n",
    "print(f'The percentage of bad quality bananas is {perc_zero}%')\n",
    "print(f'The percentage of good quality bananas is {100 - perc_zero}%')"
   ]
  },
  {
   "cell_type": "code",
   "execution_count": null,
   "id": "36947fcf-d3da-40c5-aee5-d9f8f5866c87",
   "metadata": {},
   "outputs": [],
   "source": []
  }
 ],
 "metadata": {
  "kernelspec": {
   "display_name": "Python 3 (ipykernel)",
   "language": "python",
   "name": "python3"
  },
  "language_info": {
   "codemirror_mode": {
    "name": "ipython",
    "version": 3
   },
   "file_extension": ".py",
   "mimetype": "text/x-python",
   "name": "python",
   "nbconvert_exporter": "python",
   "pygments_lexer": "ipython3",
   "version": "3.12.7"
  }
 },
 "nbformat": 4,
 "nbformat_minor": 5
}
